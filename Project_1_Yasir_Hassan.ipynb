{
 "cells": [
  {
   "cell_type": "markdown",
   "metadata": {},
   "source": [
    "# Yasir Hassan\n",
    "# Project 1\n",
    "# Decision Tree, and Random Forest\n",
    "# with parameters optimization, to evaluate \n",
    "# the performance of the classification"
   ]
  },
  {
   "cell_type": "code",
   "execution_count": 1,
   "metadata": {},
   "outputs": [],
   "source": [
    "# import libraries\n",
    "import numpy as np\n",
    "import pandas as pd\n",
    "from sklearn.model_selection import train_test_split\n",
    "from sklearn.preprocessing import StandardScaler\n",
    "from sklearn.tree import DecisionTreeClassifier\n",
    "from sklearn.model_selection import GridSearchCV\n",
    "from sklearn.metrics import accuracy_score\n",
    "from sklearn.metrics import confusion_matrix\n",
    "from sklearn.ensemble import RandomForestClassifier"
   ]
  },
  {
   "cell_type": "code",
   "execution_count": 2,
   "metadata": {},
   "outputs": [],
   "source": [
    "# read data into pandas dataFrame\n",
    "df = pd.read_csv(r\"C:\\Users\\NeverGiveUp\\Desktop\\Input File2\\BDParkinson_Prediction .csv\")"
   ]
  },
  {
   "cell_type": "code",
   "execution_count": 3,
   "metadata": {},
   "outputs": [
    {
     "data": {
      "text/html": [
       "<div>\n",
       "<style scoped>\n",
       "    .dataframe tbody tr th:only-of-type {\n",
       "        vertical-align: middle;\n",
       "    }\n",
       "\n",
       "    .dataframe tbody tr th {\n",
       "        vertical-align: top;\n",
       "    }\n",
       "\n",
       "    .dataframe thead th {\n",
       "        text-align: right;\n",
       "    }\n",
       "</style>\n",
       "<table border=\"1\" class=\"dataframe\">\n",
       "  <thead>\n",
       "    <tr style=\"text-align: right;\">\n",
       "      <th></th>\n",
       "      <th>VAR1</th>\n",
       "      <th>VAR2</th>\n",
       "      <th>VAR3</th>\n",
       "      <th>VAR4</th>\n",
       "      <th>VAR5</th>\n",
       "      <th>VAR6</th>\n",
       "      <th>CLASS</th>\n",
       "    </tr>\n",
       "  </thead>\n",
       "  <tbody>\n",
       "    <tr>\n",
       "      <th>0</th>\n",
       "      <td>0.624731</td>\n",
       "      <td>0.135424</td>\n",
       "      <td>0.0</td>\n",
       "      <td>0.675282</td>\n",
       "      <td>0.182203</td>\n",
       "      <td>0.962960</td>\n",
       "      <td>Class_1</td>\n",
       "    </tr>\n",
       "    <tr>\n",
       "      <th>1</th>\n",
       "      <td>0.647223</td>\n",
       "      <td>0.136211</td>\n",
       "      <td>0.0</td>\n",
       "      <td>0.679511</td>\n",
       "      <td>0.195903</td>\n",
       "      <td>0.987387</td>\n",
       "      <td>Class_1</td>\n",
       "    </tr>\n",
       "    <tr>\n",
       "      <th>2</th>\n",
       "      <td>0.706352</td>\n",
       "      <td>0.187593</td>\n",
       "      <td>0.0</td>\n",
       "      <td>0.632989</td>\n",
       "      <td>0.244884</td>\n",
       "      <td>0.991182</td>\n",
       "      <td>Class_1</td>\n",
       "    </tr>\n",
       "    <tr>\n",
       "      <th>3</th>\n",
       "      <td>0.680291</td>\n",
       "      <td>0.192076</td>\n",
       "      <td>0.0</td>\n",
       "      <td>0.651786</td>\n",
       "      <td>0.233528</td>\n",
       "      <td>0.991857</td>\n",
       "      <td>Class_1</td>\n",
       "    </tr>\n",
       "    <tr>\n",
       "      <th>4</th>\n",
       "      <td>0.660104</td>\n",
       "      <td>0.161131</td>\n",
       "      <td>0.0</td>\n",
       "      <td>0.677162</td>\n",
       "      <td>0.209531</td>\n",
       "      <td>0.991066</td>\n",
       "      <td>Class_1</td>\n",
       "    </tr>\n",
       "  </tbody>\n",
       "</table>\n",
       "</div>"
      ],
      "text/plain": [
       "       VAR1      VAR2  VAR3      VAR4      VAR5      VAR6    CLASS\n",
       "0  0.624731  0.135424   0.0  0.675282  0.182203  0.962960  Class_1\n",
       "1  0.647223  0.136211   0.0  0.679511  0.195903  0.987387  Class_1\n",
       "2  0.706352  0.187593   0.0  0.632989  0.244884  0.991182  Class_1\n",
       "3  0.680291  0.192076   0.0  0.651786  0.233528  0.991857  Class_1\n",
       "4  0.660104  0.161131   0.0  0.677162  0.209531  0.991066  Class_1"
      ]
     },
     "execution_count": 3,
     "metadata": {},
     "output_type": "execute_result"
    }
   ],
   "source": [
    "# display head of the data\n",
    "df.head()"
   ]
  },
  {
   "cell_type": "code",
   "execution_count": 4,
   "metadata": {},
   "outputs": [],
   "source": [
    "# convert Class column from String to numerical data type.\n",
    "df['CLASS'].replace({'Class_1':1.0, 'Class2':2.0,'Class_3':3.0, 'Class_4':4.0}, inplace = True)"
   ]
  },
  {
   "cell_type": "code",
   "execution_count": 5,
   "metadata": {},
   "outputs": [
    {
     "data": {
      "text/html": [
       "<div>\n",
       "<style scoped>\n",
       "    .dataframe tbody tr th:only-of-type {\n",
       "        vertical-align: middle;\n",
       "    }\n",
       "\n",
       "    .dataframe tbody tr th {\n",
       "        vertical-align: top;\n",
       "    }\n",
       "\n",
       "    .dataframe thead th {\n",
       "        text-align: right;\n",
       "    }\n",
       "</style>\n",
       "<table border=\"1\" class=\"dataframe\">\n",
       "  <thead>\n",
       "    <tr style=\"text-align: right;\">\n",
       "      <th></th>\n",
       "      <th>VAR1</th>\n",
       "      <th>VAR2</th>\n",
       "      <th>VAR3</th>\n",
       "      <th>VAR4</th>\n",
       "      <th>VAR5</th>\n",
       "      <th>VAR6</th>\n",
       "      <th>CLASS</th>\n",
       "    </tr>\n",
       "  </thead>\n",
       "  <tbody>\n",
       "    <tr>\n",
       "      <th>0</th>\n",
       "      <td>0.624731</td>\n",
       "      <td>0.135424</td>\n",
       "      <td>0.0</td>\n",
       "      <td>0.675282</td>\n",
       "      <td>0.182203</td>\n",
       "      <td>0.962960</td>\n",
       "      <td>1.0</td>\n",
       "    </tr>\n",
       "    <tr>\n",
       "      <th>1</th>\n",
       "      <td>0.647223</td>\n",
       "      <td>0.136211</td>\n",
       "      <td>0.0</td>\n",
       "      <td>0.679511</td>\n",
       "      <td>0.195903</td>\n",
       "      <td>0.987387</td>\n",
       "      <td>1.0</td>\n",
       "    </tr>\n",
       "    <tr>\n",
       "      <th>2</th>\n",
       "      <td>0.706352</td>\n",
       "      <td>0.187593</td>\n",
       "      <td>0.0</td>\n",
       "      <td>0.632989</td>\n",
       "      <td>0.244884</td>\n",
       "      <td>0.991182</td>\n",
       "      <td>1.0</td>\n",
       "    </tr>\n",
       "    <tr>\n",
       "      <th>3</th>\n",
       "      <td>0.680291</td>\n",
       "      <td>0.192076</td>\n",
       "      <td>0.0</td>\n",
       "      <td>0.651786</td>\n",
       "      <td>0.233528</td>\n",
       "      <td>0.991857</td>\n",
       "      <td>1.0</td>\n",
       "    </tr>\n",
       "    <tr>\n",
       "      <th>4</th>\n",
       "      <td>0.660104</td>\n",
       "      <td>0.161131</td>\n",
       "      <td>0.0</td>\n",
       "      <td>0.677162</td>\n",
       "      <td>0.209531</td>\n",
       "      <td>0.991066</td>\n",
       "      <td>1.0</td>\n",
       "    </tr>\n",
       "  </tbody>\n",
       "</table>\n",
       "</div>"
      ],
      "text/plain": [
       "       VAR1      VAR2  VAR3      VAR4      VAR5      VAR6  CLASS\n",
       "0  0.624731  0.135424   0.0  0.675282  0.182203  0.962960    1.0\n",
       "1  0.647223  0.136211   0.0  0.679511  0.195903  0.987387    1.0\n",
       "2  0.706352  0.187593   0.0  0.632989  0.244884  0.991182    1.0\n",
       "3  0.680291  0.192076   0.0  0.651786  0.233528  0.991857    1.0\n",
       "4  0.660104  0.161131   0.0  0.677162  0.209531  0.991066    1.0"
      ]
     },
     "execution_count": 5,
     "metadata": {},
     "output_type": "execute_result"
    }
   ],
   "source": [
    "# check the to see Class column is converted to numerical (float)\n",
    "df.head()"
   ]
  },
  {
   "cell_type": "code",
   "execution_count": 6,
   "metadata": {},
   "outputs": [],
   "source": [
    "# seperate features from labels\n",
    "X = df[['VAR1', 'VAR2', 'VAR3', 'VAR4', 'VAR5']]\n",
    "y = df['CLASS']"
   ]
  },
  {
   "cell_type": "code",
   "execution_count": 7,
   "metadata": {},
   "outputs": [],
   "source": [
    "# Scale the features using StandardScaler class.\n",
    "sc = StandardScaler()\n",
    "X_scaled = sc.fit_transform(X)"
   ]
  },
  {
   "cell_type": "code",
   "execution_count": 8,
   "metadata": {},
   "outputs": [],
   "source": [
    "# seperate the data into training and testing sets.\n",
    "X_train, X_test, y_train, y_test = train_test_split(X_scaled, y, test_size = 0.2, random_state = 0)"
   ]
  },
  {
   "cell_type": "code",
   "execution_count": 9,
   "metadata": {},
   "outputs": [],
   "source": [
    "# using a single Decision Tree classifier to instantiate a tree object.\n",
    "# and seed the classifier with random_state = 0\n",
    "tree = DecisionTreeClassifier(random_state = 0)"
   ]
  },
  {
   "cell_type": "code",
   "execution_count": 10,
   "metadata": {},
   "outputs": [
    {
     "data": {
      "text/plain": [
       "DecisionTreeClassifier(ccp_alpha=0.0, class_weight=None, criterion='gini',\n",
       "                       max_depth=None, max_features=None, max_leaf_nodes=None,\n",
       "                       min_impurity_decrease=0.0, min_impurity_split=None,\n",
       "                       min_samples_leaf=1, min_samples_split=2,\n",
       "                       min_weight_fraction_leaf=0.0, presort='deprecated',\n",
       "                       random_state=0, splitter='best')"
      ]
     },
     "execution_count": 10,
     "metadata": {},
     "output_type": "execute_result"
    }
   ],
   "source": [
    "# fit the DT classifier with training data\n",
    "tree.fit(X_train, y_train)"
   ]
  },
  {
   "cell_type": "code",
   "execution_count": 11,
   "metadata": {},
   "outputs": [
    {
     "name": "stdout",
     "output_type": "stream",
     "text": [
      "Accuracy on training set: 1.00\n",
      "Accuracy on test set: 0.98\n"
     ]
    }
   ],
   "source": [
    "# print ou the accuracy on the training set \n",
    "# and the accuracy of the test set.\n",
    "print(\"Accuracy on training set: {:.2f}\".format(tree.score(X_train, y_train)))\n",
    "print(\"Accuracy on test set: {:.2f}\".format(tree.score(X_test, y_test)))"
   ]
  },
  {
   "cell_type": "code",
   "execution_count": 12,
   "metadata": {},
   "outputs": [
    {
     "data": {
      "text/plain": [
       "array([[103,   0,   0,   0],\n",
       "       [  0,  98,   0,   0],\n",
       "       [  0,   0,  95,   0],\n",
       "       [  0,   0,   0, 104]], dtype=int64)"
      ]
     },
     "execution_count": 12,
     "metadata": {},
     "output_type": "execute_result"
    }
   ],
   "source": [
    "# finding the confusion matrix of the training set of a single tree.\n",
    "y_pred = tree.predict(X_train)\n",
    "cm = confusion_matrix(y_train, y_pred)\n",
    "cm"
   ]
  },
  {
   "cell_type": "code",
   "execution_count": 13,
   "metadata": {},
   "outputs": [],
   "source": [
    "# The training set is 100% because the leaves are pure.\n",
    "# The tree was grown deep enough that it could perfectly memorize \n",
    "# all the labels on the training data. \n",
    "# The test set accuracy 97% accuracy."
   ]
  },
  {
   "cell_type": "code",
   "execution_count": 14,
   "metadata": {},
   "outputs": [
    {
     "data": {
      "text/plain": [
       "DecisionTreeClassifier(ccp_alpha=0.0, class_weight=None, criterion='gini',\n",
       "                       max_depth=4, max_features=None, max_leaf_nodes=None,\n",
       "                       min_impurity_decrease=0.0, min_impurity_split=None,\n",
       "                       min_samples_leaf=1, min_samples_split=2,\n",
       "                       min_weight_fraction_leaf=0.0, presort='deprecated',\n",
       "                       random_state=0, splitter='best')"
      ]
     },
     "execution_count": 14,
     "metadata": {},
     "output_type": "execute_result"
    }
   ],
   "source": [
    "# Now a pply pre-pruning to the tree, which will stop developing\n",
    "# the tree before it perfectly fits to the training data. \n",
    "# This will stop building the tree after a certain depth\n",
    "# has been reached, which is 4, level\n",
    "# And then fit the tree clf with training data\n",
    "tree = DecisionTreeClassifier(max_depth= 4, random_state=0)\n",
    "tree.fit(X_train, y_train)"
   ]
  },
  {
   "cell_type": "code",
   "execution_count": 15,
   "metadata": {},
   "outputs": [
    {
     "name": "stdout",
     "output_type": "stream",
     "text": [
      "Accuracy on training set: 0.998\n",
      "Accuracy on test set: 0.970\n"
     ]
    }
   ],
   "source": [
    "# Display the score for both training and then testing data\n",
    "# after applying pre-pruning to the tree, where max_depth = 4\n",
    "print(\"Accuracy on training set: {:.3f}\".format(tree.score(X_train, y_train)))\n",
    "print(\"Accuracy on test set: {:.3f}\".format(tree.score(X_test, y_test)))"
   ]
  },
  {
   "cell_type": "code",
   "execution_count": 16,
   "metadata": {},
   "outputs": [],
   "source": [
    "# Applying pre-pruning to the tree will stop developing\n",
    "# the tree before fiting to the training data. \n",
    "# So, stop building the tree after a certain depth has been reached. \n",
    "# Here I set max_depth =4, meaning only\n",
    "# four consecutive questions can be asked. \n",
    "# Limiting the depth of the tree decreases overfitting. \n",
    "# This lead to a lower accuracy on the training set."
   ]
  },
  {
   "cell_type": "code",
   "execution_count": 17,
   "metadata": {},
   "outputs": [],
   "source": [
    "# Visualize the tree using the export_graphviz function from the tree module\n",
    "from sklearn.tree import export_graphviz\n",
    "export_graphviz(tree, out_file=\"tree.dot\", class_names=[\"Class_1\", \"Class2\", \"Class_3\", \"Class_4\"],\n",
    "                impurity=False, filled=True)"
   ]
  },
  {
   "cell_type": "code",
   "execution_count": 18,
   "metadata": {},
   "outputs": [
    {
     "data": {
      "image/svg+xml": [
       "<?xml version=\"1.0\" encoding=\"UTF-8\" standalone=\"no\"?>\r\n",
       "<!DOCTYPE svg PUBLIC \"-//W3C//DTD SVG 1.1//EN\"\r\n",
       " \"http://www.w3.org/Graphics/SVG/1.1/DTD/svg11.dtd\">\r\n",
       "<!-- Generated by graphviz version 2.38.0 (20140413.2041)\r\n",
       " -->\r\n",
       "<!-- Title: Tree Pages: 1 -->\r\n",
       "<svg width=\"557pt\" height=\"477pt\"\r\n",
       " viewBox=\"0.00 0.00 556.50 477.00\" xmlns=\"http://www.w3.org/2000/svg\" xmlns:xlink=\"http://www.w3.org/1999/xlink\">\r\n",
       "<g id=\"graph0\" class=\"graph\" transform=\"scale(1 1) rotate(0) translate(4 473)\">\r\n",
       "<title>Tree</title>\r\n",
       "<polygon fill=\"white\" stroke=\"none\" points=\"-4,4 -4,-473 552.5,-473 552.5,4 -4,4\"/>\r\n",
       "<!-- 0 -->\r\n",
       "<g id=\"node1\" class=\"node\"><title>0</title>\r\n",
       "<polygon fill=\"#fffeff\" stroke=\"black\" points=\"353,-469 193,-469 193,-401 353,-401 353,-469\"/>\r\n",
       "<text text-anchor=\"middle\" x=\"273\" y=\"-453.8\" font-family=\"Times New Roman,serif\" font-size=\"14.00\">X[2] &lt;= &#45;0.939</text>\r\n",
       "<text text-anchor=\"middle\" x=\"273\" y=\"-438.8\" font-family=\"Times New Roman,serif\" font-size=\"14.00\">samples = 400</text>\r\n",
       "<text text-anchor=\"middle\" x=\"273\" y=\"-423.8\" font-family=\"Times New Roman,serif\" font-size=\"14.00\">value = [103, 98, 95, 104]</text>\r\n",
       "<text text-anchor=\"middle\" x=\"273\" y=\"-408.8\" font-family=\"Times New Roman,serif\" font-size=\"14.00\">class = Class_4</text>\r\n",
       "</g>\r\n",
       "<!-- 1 -->\r\n",
       "<g id=\"node2\" class=\"node\"><title>1</title>\r\n",
       "<polygon fill=\"#e58139\" stroke=\"black\" points=\"260.5,-357.5 127.5,-357.5 127.5,-304.5 260.5,-304.5 260.5,-357.5\"/>\r\n",
       "<text text-anchor=\"middle\" x=\"194\" y=\"-342.3\" font-family=\"Times New Roman,serif\" font-size=\"14.00\">samples = 103</text>\r\n",
       "<text text-anchor=\"middle\" x=\"194\" y=\"-327.3\" font-family=\"Times New Roman,serif\" font-size=\"14.00\">value = [103, 0, 0, 0]</text>\r\n",
       "<text text-anchor=\"middle\" x=\"194\" y=\"-312.3\" font-family=\"Times New Roman,serif\" font-size=\"14.00\">class = Class_1</text>\r\n",
       "</g>\r\n",
       "<!-- 0&#45;&gt;1 -->\r\n",
       "<g id=\"edge1\" class=\"edge\"><title>0&#45;&gt;1</title>\r\n",
       "<path fill=\"none\" stroke=\"black\" d=\"M247.351,-400.884C238.577,-389.556 228.76,-376.88 219.962,-365.521\"/>\r\n",
       "<polygon fill=\"black\" stroke=\"black\" points=\"222.656,-363.283 213.765,-357.52 217.122,-367.569 222.656,-363.283\"/>\r\n",
       "<text text-anchor=\"middle\" x=\"210.614\" y=\"-378.621\" font-family=\"Times New Roman,serif\" font-size=\"14.00\">True</text>\r\n",
       "</g>\r\n",
       "<!-- 2 -->\r\n",
       "<g id=\"node3\" class=\"node\"><title>2</title>\r\n",
       "<polygon fill=\"#fef9fe\" stroke=\"black\" points=\"425,-365 279,-365 279,-297 425,-297 425,-365\"/>\r\n",
       "<text text-anchor=\"middle\" x=\"352\" y=\"-349.8\" font-family=\"Times New Roman,serif\" font-size=\"14.00\">X[3] &lt;= &#45;0.215</text>\r\n",
       "<text text-anchor=\"middle\" x=\"352\" y=\"-334.8\" font-family=\"Times New Roman,serif\" font-size=\"14.00\">samples = 297</text>\r\n",
       "<text text-anchor=\"middle\" x=\"352\" y=\"-319.8\" font-family=\"Times New Roman,serif\" font-size=\"14.00\">value = [0, 98, 95, 104]</text>\r\n",
       "<text text-anchor=\"middle\" x=\"352\" y=\"-304.8\" font-family=\"Times New Roman,serif\" font-size=\"14.00\">class = Class_4</text>\r\n",
       "</g>\r\n",
       "<!-- 0&#45;&gt;2 -->\r\n",
       "<g id=\"edge2\" class=\"edge\"><title>0&#45;&gt;2</title>\r\n",
       "<path fill=\"none\" stroke=\"black\" d=\"M298.649,-400.884C305.479,-392.065 312.941,-382.43 320.063,-373.235\"/>\r\n",
       "<polygon fill=\"black\" stroke=\"black\" points=\"322.853,-375.349 326.209,-365.299 317.319,-371.062 322.853,-375.349\"/>\r\n",
       "<text text-anchor=\"middle\" x=\"329.361\" y=\"-386.4\" font-family=\"Times New Roman,serif\" font-size=\"14.00\">False</text>\r\n",
       "</g>\r\n",
       "<!-- 3 -->\r\n",
       "<g id=\"node4\" class=\"node\"><title>3</title>\r\n",
       "<polygon fill=\"#fceefd\" stroke=\"black\" points=\"346,-261 206,-261 206,-193 346,-193 346,-261\"/>\r\n",
       "<text text-anchor=\"middle\" x=\"276\" y=\"-245.8\" font-family=\"Times New Roman,serif\" font-size=\"14.00\">X[0] &lt;= 0.633</text>\r\n",
       "<text text-anchor=\"middle\" x=\"276\" y=\"-230.8\" font-family=\"Times New Roman,serif\" font-size=\"14.00\">samples = 199</text>\r\n",
       "<text text-anchor=\"middle\" x=\"276\" y=\"-215.8\" font-family=\"Times New Roman,serif\" font-size=\"14.00\">value = [0, 0, 95, 104]</text>\r\n",
       "<text text-anchor=\"middle\" x=\"276\" y=\"-200.8\" font-family=\"Times New Roman,serif\" font-size=\"14.00\">class = Class_4</text>\r\n",
       "</g>\r\n",
       "<!-- 2&#45;&gt;3 -->\r\n",
       "<g id=\"edge3\" class=\"edge\"><title>2&#45;&gt;3</title>\r\n",
       "<path fill=\"none\" stroke=\"black\" d=\"M327.325,-296.884C320.821,-288.154 313.72,-278.625 306.932,-269.514\"/>\r\n",
       "<polygon fill=\"black\" stroke=\"black\" points=\"309.593,-267.227 300.811,-261.299 303.98,-271.409 309.593,-267.227\"/>\r\n",
       "</g>\r\n",
       "<!-- 10 -->\r\n",
       "<g id=\"node11\" class=\"node\"><title>10</title>\r\n",
       "<polygon fill=\"#47e539\" stroke=\"black\" points=\"490,-253.5 364,-253.5 364,-200.5 490,-200.5 490,-253.5\"/>\r\n",
       "<text text-anchor=\"middle\" x=\"427\" y=\"-238.3\" font-family=\"Times New Roman,serif\" font-size=\"14.00\">samples = 98</text>\r\n",
       "<text text-anchor=\"middle\" x=\"427\" y=\"-223.3\" font-family=\"Times New Roman,serif\" font-size=\"14.00\">value = [0, 98, 0, 0]</text>\r\n",
       "<text text-anchor=\"middle\" x=\"427\" y=\"-208.3\" font-family=\"Times New Roman,serif\" font-size=\"14.00\">class = Class2</text>\r\n",
       "</g>\r\n",
       "<!-- 2&#45;&gt;10 -->\r\n",
       "<g id=\"edge10\" class=\"edge\"><title>2&#45;&gt;10</title>\r\n",
       "<path fill=\"none\" stroke=\"black\" d=\"M376.35,-296.884C384.599,-285.666 393.819,-273.126 402.109,-261.852\"/>\r\n",
       "<polygon fill=\"black\" stroke=\"black\" points=\"405.131,-263.65 408.235,-253.52 399.492,-259.503 405.131,-263.65\"/>\r\n",
       "</g>\r\n",
       "<!-- 4 -->\r\n",
       "<g id=\"node5\" class=\"node\"><title>4</title>\r\n",
       "<polygon fill=\"#d73be5\" stroke=\"black\" points=\"268.5,-157 135.5,-157 135.5,-89 268.5,-89 268.5,-157\"/>\r\n",
       "<text text-anchor=\"middle\" x=\"202\" y=\"-141.8\" font-family=\"Times New Roman,serif\" font-size=\"14.00\">X[0] &lt;= 0.297</text>\r\n",
       "<text text-anchor=\"middle\" x=\"202\" y=\"-126.8\" font-family=\"Times New Roman,serif\" font-size=\"14.00\">samples = 101</text>\r\n",
       "<text text-anchor=\"middle\" x=\"202\" y=\"-111.8\" font-family=\"Times New Roman,serif\" font-size=\"14.00\">value = [0, 0, 1, 100]</text>\r\n",
       "<text text-anchor=\"middle\" x=\"202\" y=\"-96.8\" font-family=\"Times New Roman,serif\" font-size=\"14.00\">class = Class_4</text>\r\n",
       "</g>\r\n",
       "<!-- 3&#45;&gt;4 -->\r\n",
       "<g id=\"edge4\" class=\"edge\"><title>3&#45;&gt;4</title>\r\n",
       "<path fill=\"none\" stroke=\"black\" d=\"M251.974,-192.884C245.641,-184.154 238.728,-174.625 232.118,-165.514\"/>\r\n",
       "<polygon fill=\"black\" stroke=\"black\" points=\"234.864,-163.338 226.158,-157.299 229.198,-167.449 234.864,-163.338\"/>\r\n",
       "</g>\r\n",
       "<!-- 7 -->\r\n",
       "<g id=\"node8\" class=\"node\"><title>7</title>\r\n",
       "<polygon fill=\"#41a1e6\" stroke=\"black\" points=\"413,-157 287,-157 287,-89 413,-89 413,-157\"/>\r\n",
       "<text text-anchor=\"middle\" x=\"350\" y=\"-141.8\" font-family=\"Times New Roman,serif\" font-size=\"14.00\">X[4] &lt;= 1.723</text>\r\n",
       "<text text-anchor=\"middle\" x=\"350\" y=\"-126.8\" font-family=\"Times New Roman,serif\" font-size=\"14.00\">samples = 98</text>\r\n",
       "<text text-anchor=\"middle\" x=\"350\" y=\"-111.8\" font-family=\"Times New Roman,serif\" font-size=\"14.00\">value = [0, 0, 94, 4]</text>\r\n",
       "<text text-anchor=\"middle\" x=\"350\" y=\"-96.8\" font-family=\"Times New Roman,serif\" font-size=\"14.00\">class = Class_3</text>\r\n",
       "</g>\r\n",
       "<!-- 3&#45;&gt;7 -->\r\n",
       "<g id=\"edge7\" class=\"edge\"><title>3&#45;&gt;7</title>\r\n",
       "<path fill=\"none\" stroke=\"black\" d=\"M300.026,-192.884C306.359,-184.154 313.272,-174.625 319.882,-165.514\"/>\r\n",
       "<polygon fill=\"black\" stroke=\"black\" points=\"322.802,-167.449 325.842,-157.299 317.136,-163.338 322.802,-167.449\"/>\r\n",
       "</g>\r\n",
       "<!-- 5 -->\r\n",
       "<g id=\"node6\" class=\"node\"><title>5</title>\r\n",
       "<polygon fill=\"#d739e5\" stroke=\"black\" points=\"126,-53 0,-53 0,-0 126,-0 126,-53\"/>\r\n",
       "<text text-anchor=\"middle\" x=\"63\" y=\"-37.8\" font-family=\"Times New Roman,serif\" font-size=\"14.00\">samples = 96</text>\r\n",
       "<text text-anchor=\"middle\" x=\"63\" y=\"-22.8\" font-family=\"Times New Roman,serif\" font-size=\"14.00\">value = [0, 0, 0, 96]</text>\r\n",
       "<text text-anchor=\"middle\" x=\"63\" y=\"-7.8\" font-family=\"Times New Roman,serif\" font-size=\"14.00\">class = Class_4</text>\r\n",
       "</g>\r\n",
       "<!-- 4&#45;&gt;5 -->\r\n",
       "<g id=\"edge5\" class=\"edge\"><title>4&#45;&gt;5</title>\r\n",
       "<path fill=\"none\" stroke=\"black\" d=\"M153.385,-88.9485C139.121,-79.2516 123.565,-68.6752 109.441,-59.073\"/>\r\n",
       "<polygon fill=\"black\" stroke=\"black\" points=\"111.094,-55.9646 100.856,-53.2367 107.158,-61.7535 111.094,-55.9646\"/>\r\n",
       "</g>\r\n",
       "<!-- 6 -->\r\n",
       "<g id=\"node7\" class=\"node\"><title>6</title>\r\n",
       "<polygon fill=\"#e16aec\" stroke=\"black\" points=\"263.5,-53 144.5,-53 144.5,-0 263.5,-0 263.5,-53\"/>\r\n",
       "<text text-anchor=\"middle\" x=\"204\" y=\"-37.8\" font-family=\"Times New Roman,serif\" font-size=\"14.00\">samples = 5</text>\r\n",
       "<text text-anchor=\"middle\" x=\"204\" y=\"-22.8\" font-family=\"Times New Roman,serif\" font-size=\"14.00\">value = [0, 0, 1, 4]</text>\r\n",
       "<text text-anchor=\"middle\" x=\"204\" y=\"-7.8\" font-family=\"Times New Roman,serif\" font-size=\"14.00\">class = Class_4</text>\r\n",
       "</g>\r\n",
       "<!-- 4&#45;&gt;6 -->\r\n",
       "<g id=\"edge6\" class=\"edge\"><title>4&#45;&gt;6</title>\r\n",
       "<path fill=\"none\" stroke=\"black\" d=\"M202.7,-88.9485C202.874,-80.7153 203.061,-71.848 203.238,-63.4814\"/>\r\n",
       "<polygon fill=\"black\" stroke=\"black\" points=\"206.743,-63.3086 203.455,-53.2367 199.744,-63.1604 206.743,-63.3086\"/>\r\n",
       "</g>\r\n",
       "<!-- 8 -->\r\n",
       "<g id=\"node9\" class=\"node\"><title>8</title>\r\n",
       "<polygon fill=\"#399de5\" stroke=\"black\" points=\"411,-53 285,-53 285,-0 411,-0 411,-53\"/>\r\n",
       "<text text-anchor=\"middle\" x=\"348\" y=\"-37.8\" font-family=\"Times New Roman,serif\" font-size=\"14.00\">samples = 94</text>\r\n",
       "<text text-anchor=\"middle\" x=\"348\" y=\"-22.8\" font-family=\"Times New Roman,serif\" font-size=\"14.00\">value = [0, 0, 94, 0]</text>\r\n",
       "<text text-anchor=\"middle\" x=\"348\" y=\"-7.8\" font-family=\"Times New Roman,serif\" font-size=\"14.00\">class = Class_3</text>\r\n",
       "</g>\r\n",
       "<!-- 7&#45;&gt;8 -->\r\n",
       "<g id=\"edge8\" class=\"edge\"><title>7&#45;&gt;8</title>\r\n",
       "<path fill=\"none\" stroke=\"black\" d=\"M349.3,-88.9485C349.126,-80.7153 348.939,-71.848 348.762,-63.4814\"/>\r\n",
       "<polygon fill=\"black\" stroke=\"black\" points=\"352.256,-63.1604 348.545,-53.2367 345.257,-63.3086 352.256,-63.1604\"/>\r\n",
       "</g>\r\n",
       "<!-- 9 -->\r\n",
       "<g id=\"node10\" class=\"node\"><title>9</title>\r\n",
       "<polygon fill=\"#d739e5\" stroke=\"black\" points=\"548.5,-53 429.5,-53 429.5,-0 548.5,-0 548.5,-53\"/>\r\n",
       "<text text-anchor=\"middle\" x=\"489\" y=\"-37.8\" font-family=\"Times New Roman,serif\" font-size=\"14.00\">samples = 4</text>\r\n",
       "<text text-anchor=\"middle\" x=\"489\" y=\"-22.8\" font-family=\"Times New Roman,serif\" font-size=\"14.00\">value = [0, 0, 0, 4]</text>\r\n",
       "<text text-anchor=\"middle\" x=\"489\" y=\"-7.8\" font-family=\"Times New Roman,serif\" font-size=\"14.00\">class = Class_4</text>\r\n",
       "</g>\r\n",
       "<!-- 7&#45;&gt;9 -->\r\n",
       "<g id=\"edge9\" class=\"edge\"><title>7&#45;&gt;9</title>\r\n",
       "<path fill=\"none\" stroke=\"black\" d=\"M398.615,-88.9485C412.879,-79.2516 428.435,-68.6752 442.559,-59.073\"/>\r\n",
       "<polygon fill=\"black\" stroke=\"black\" points=\"444.842,-61.7535 451.144,-53.2367 440.906,-55.9646 444.842,-61.7535\"/>\r\n",
       "</g>\r\n",
       "</g>\r\n",
       "</svg>\r\n"
      ],
      "text/plain": [
       "<graphviz.files.Source at 0x25fdf0aa848>"
      ]
     },
     "execution_count": 18,
     "metadata": {},
     "output_type": "execute_result"
    }
   ],
   "source": [
    "# Visualization of the decision tree built:\n",
    "# Read the file and visualize it, using the graphviz module\n",
    "import graphviz\n",
    "with open(\"tree.dot\") as f:\n",
    "    dot_graph = f.read()\n",
    "graphviz.Source(dot_graph)"
   ]
  },
  {
   "cell_type": "code",
   "execution_count": 19,
   "metadata": {},
   "outputs": [
    {
     "name": "stdout",
     "output_type": "stream",
     "text": [
      "Feature importances:\n",
      "[0.30182225 0.         0.34199928 0.33045146 0.02572702]\n"
     ]
    }
   ],
   "source": [
    "# Feature Importance in Trees:\n",
    "# Instead of looking at the whole tree, I use\n",
    "# Feature importance, which rates how important each feature is for\n",
    "# the decision a tree makes.\n",
    "print(\"Feature importances:\\n{}\".format(tree.feature_importances_))"
   ]
  },
  {
   "cell_type": "code",
   "execution_count": 20,
   "metadata": {},
   "outputs": [],
   "source": [
    "# Parameter Optimization, to Evaluate the Performance of \n",
    "# a single decision tree.\n",
    "# I use GridsearchCV classifier for finding the best parameters\n",
    "initial_param = {\n",
    "    \"criterion\":[\"gini\", \"entropy\"],\n",
    "    \"max_depth\":[1,2,3,4,5,6,7, None]\n",
    "}\n",
    "grid = GridSearchCV(tree, param_grid = initial_param, cv = 5, n_jobs = -1)"
   ]
  },
  {
   "cell_type": "code",
   "execution_count": 21,
   "metadata": {},
   "outputs": [
    {
     "data": {
      "text/plain": [
       "GridSearchCV(cv=5, error_score=nan,\n",
       "             estimator=DecisionTreeClassifier(ccp_alpha=0.0, class_weight=None,\n",
       "                                              criterion='gini', max_depth=4,\n",
       "                                              max_features=None,\n",
       "                                              max_leaf_nodes=None,\n",
       "                                              min_impurity_decrease=0.0,\n",
       "                                              min_impurity_split=None,\n",
       "                                              min_samples_leaf=1,\n",
       "                                              min_samples_split=2,\n",
       "                                              min_weight_fraction_leaf=0.0,\n",
       "                                              presort='deprecated',\n",
       "                                              random_state=0, splitter='best'),\n",
       "             iid='deprecated', n_jobs=-1,\n",
       "             param_grid={'criterion': ['gini', 'entropy'],\n",
       "                         'max_depth': [1, 2, 3, 4, 5, 6, 7, None]},\n",
       "             pre_dispatch='2*n_jobs', refit=True, return_train_score=False,\n",
       "             scoring=None, verbose=0)"
      ]
     },
     "execution_count": 21,
     "metadata": {},
     "output_type": "execute_result"
    }
   ],
   "source": [
    "# fit the grid with training data set.\n",
    "grid.fit(X_train, y_train)"
   ]
  },
  {
   "cell_type": "code",
   "execution_count": 22,
   "metadata": {},
   "outputs": [
    {
     "data": {
      "text/plain": [
       "DecisionTreeClassifier(ccp_alpha=0.0, class_weight=None, criterion='gini',\n",
       "                       max_depth=4, max_features=None, max_leaf_nodes=None,\n",
       "                       min_impurity_decrease=0.0, min_impurity_split=None,\n",
       "                       min_samples_leaf=1, min_samples_split=2,\n",
       "                       min_weight_fraction_leaf=0.0, presort='deprecated',\n",
       "                       random_state=0, splitter='best')"
      ]
     },
     "execution_count": 22,
     "metadata": {},
     "output_type": "execute_result"
    }
   ],
   "source": [
    "# Finding GridSearch best estimator\n",
    "grid.best_estimator_"
   ]
  },
  {
   "cell_type": "code",
   "execution_count": 23,
   "metadata": {},
   "outputs": [
    {
     "data": {
      "text/plain": [
       "0.9974999999999999"
      ]
     },
     "execution_count": 23,
     "metadata": {},
     "output_type": "execute_result"
    }
   ],
   "source": [
    "# Grid Search best score\n",
    "grid.best_score_"
   ]
  },
  {
   "cell_type": "code",
   "execution_count": 24,
   "metadata": {},
   "outputs": [
    {
     "data": {
      "text/plain": [
       "{'criterion': 'gini', 'max_depth': 4}"
      ]
     },
     "execution_count": 24,
     "metadata": {},
     "output_type": "execute_result"
    }
   ],
   "source": [
    "# Grid Search best parameters\n",
    "grid.best_params_"
   ]
  },
  {
   "cell_type": "code",
   "execution_count": 25,
   "metadata": {},
   "outputs": [
    {
     "data": {
      "text/plain": [
       "DecisionTreeClassifier(ccp_alpha=0.0, class_weight=None, criterion='gini',\n",
       "                       max_depth=4, max_features=None, max_leaf_nodes=None,\n",
       "                       min_impurity_decrease=0.0, min_impurity_split=None,\n",
       "                       min_samples_leaf=1, min_samples_split=2,\n",
       "                       min_weight_fraction_leaf=0.0, presort='deprecated',\n",
       "                       random_state=0, splitter='best')"
      ]
     },
     "execution_count": 25,
     "metadata": {},
     "output_type": "execute_result"
    }
   ],
   "source": [
    "# using best found parameters to initialize DecisionTreeClassifier\n",
    "# And then fit the tree classifier with training data\n",
    "tree = DecisionTreeClassifier(criterion= 'gini', max_depth= 4, random_state=0)\n",
    "tree.fit(X_train, y_train)"
   ]
  },
  {
   "cell_type": "code",
   "execution_count": 26,
   "metadata": {},
   "outputs": [],
   "source": [
    "# predict the test data\n",
    "y_pred = tree.predict(X_test)"
   ]
  },
  {
   "cell_type": "code",
   "execution_count": 27,
   "metadata": {},
   "outputs": [
    {
     "data": {
      "text/plain": [
       "array([[22,  0,  0,  0],\n",
       "       [ 0, 27,  0,  0],\n",
       "       [ 0,  0, 27,  3],\n",
       "       [ 0,  0,  0, 21]], dtype=int64)"
      ]
     },
     "execution_count": 27,
     "metadata": {},
     "output_type": "execute_result"
    }
   ],
   "source": [
    "# Find the confusion matrix for the test data\n",
    "# by comparing y_test with the prediction of X_test\n",
    "cm = confusion_matrix(y_test, y_pred)\n",
    "cm"
   ]
  },
  {
   "cell_type": "code",
   "execution_count": 28,
   "metadata": {},
   "outputs": [
    {
     "data": {
      "text/plain": [
       "0.97"
      ]
     },
     "execution_count": 28,
     "metadata": {},
     "output_type": "execute_result"
    }
   ],
   "source": [
    "# find the accuracy score\n",
    "accuracy = accuracy_score(y_test, y_pred)\n",
    "accuracy"
   ]
  },
  {
   "cell_type": "code",
   "execution_count": 29,
   "metadata": {},
   "outputs": [
    {
     "data": {
      "text/plain": [
       "RandomForestClassifier(bootstrap=True, ccp_alpha=0.0, class_weight=None,\n",
       "                       criterion='gini', max_depth=None, max_features='auto',\n",
       "                       max_leaf_nodes=None, max_samples=None,\n",
       "                       min_impurity_decrease=0.0, min_impurity_split=None,\n",
       "                       min_samples_leaf=1, min_samples_split=2,\n",
       "                       min_weight_fraction_leaf=0.0, n_estimators=10,\n",
       "                       n_jobs=None, oob_score=False, random_state=2, verbose=0,\n",
       "                       warm_start=False)"
      ]
     },
     "execution_count": 29,
     "metadata": {},
     "output_type": "execute_result"
    }
   ],
   "source": [
    "# Now, building a random forest consisting of 10 trees on the data\n",
    "# The choice of 10 trees is Arbitrary.\n",
    "forest = RandomForestClassifier(n_estimators= 10, random_state=2)\n",
    "forest.fit(X_train, y_train)"
   ]
  },
  {
   "cell_type": "code",
   "execution_count": 30,
   "metadata": {},
   "outputs": [],
   "source": [
    "# The trees that are built as part of the random forest are stored in the estimator_ attribute. \n",
    "# Visualize the decision boundaries learned by each tree, together with\n",
    "# their aggregate prediction as made by the forest"
   ]
  },
  {
   "cell_type": "code",
   "execution_count": 31,
   "metadata": {},
   "outputs": [
    {
     "name": "stdout",
     "output_type": "stream",
     "text": [
      "Accuracy on training set: 1.000\n",
      "Accuracy on test set: 0.970\n"
     ]
    }
   ],
   "source": [
    "print(\"Accuracy on training set: {:.3f}\".format(forest.score(X_train, y_train)))\n",
    "print(\"Accuracy on test set: {:.3f}\".format(forest.score(X_test, y_test)))"
   ]
  },
  {
   "cell_type": "code",
   "execution_count": 32,
   "metadata": {},
   "outputs": [],
   "source": [
    "# The random forest gave an accuracy of 97%,\n",
    "# without tuning any parameters. I could adjust the max_features setting, \n",
    "# or apply pre-pruning as for the single decision tree.\n",
    "# Often the default parameters of the random forest already work quite well."
   ]
  },
  {
   "cell_type": "code",
   "execution_count": 33,
   "metadata": {},
   "outputs": [],
   "source": [
    "# Strengths, weaknesses, and parameters:\n",
    "# Random forests for regression and classification are\n",
    "# among the most widely used machine learning methods. They are\n",
    "# very powerful, often work well without heavy tuning of the parameters, \n",
    "# and don’t require scaling of the data."
   ]
  },
  {
   "cell_type": "code",
   "execution_count": 34,
   "metadata": {},
   "outputs": [],
   "source": [
    "# Random forests share all of the benefits of decision trees, while making up\n",
    "# for some of their deficiencies. \n",
    "# decision tree is used for compact representation of the decision-making process. \n",
    "# It is impossible to interpret tens or hundreds of trees in detail, \n",
    "# and trees in random forests tend to be deeper than decision trees. \n",
    "# Therefore, to summarize the prediction making in a visual way to nonexperts, \n",
    "# a single decision tree might be a better choice. \n",
    "# While building random forests on large datasets might be time consuming, \n",
    "# it can be parallelized across multiple CPU."
   ]
  },
  {
   "cell_type": "code",
   "execution_count": 35,
   "metadata": {},
   "outputs": [],
   "source": [
    "# Parameter optimization, to evaluate the performance of \n",
    "# a random forest.\n",
    "# User GridsearchCV classifier for finding the best parameters\n",
    "initial_param = {\n",
    "    \"n_estimators\" : [1,10,20, 30, 50, 100, None],\n",
    "    \"criterion\":[\"gini\"],\n",
    "}\n",
    "grid = GridSearchCV(forest, param_grid = initial_param, cv = 5, n_jobs = -1)"
   ]
  },
  {
   "cell_type": "code",
   "execution_count": 36,
   "metadata": {},
   "outputs": [
    {
     "data": {
      "text/plain": [
       "GridSearchCV(cv=5, error_score=nan,\n",
       "             estimator=RandomForestClassifier(bootstrap=True, ccp_alpha=0.0,\n",
       "                                              class_weight=None,\n",
       "                                              criterion='gini', max_depth=None,\n",
       "                                              max_features='auto',\n",
       "                                              max_leaf_nodes=None,\n",
       "                                              max_samples=None,\n",
       "                                              min_impurity_decrease=0.0,\n",
       "                                              min_impurity_split=None,\n",
       "                                              min_samples_leaf=1,\n",
       "                                              min_samples_split=2,\n",
       "                                              min_weight_fraction_leaf=0.0,\n",
       "                                              n_estimators=10, n_jobs=None,\n",
       "                                              oob_score=False, random_state=2,\n",
       "                                              verbose=0, warm_start=False),\n",
       "             iid='deprecated', n_jobs=-1,\n",
       "             param_grid={'criterion': ['gini'],\n",
       "                         'n_estimators': [1, 10, 20, 30, 50, 100, None]},\n",
       "             pre_dispatch='2*n_jobs', refit=True, return_train_score=False,\n",
       "             scoring=None, verbose=0)"
      ]
     },
     "execution_count": 36,
     "metadata": {},
     "output_type": "execute_result"
    }
   ],
   "source": [
    "# fit the grid with training data set.\n",
    "grid.fit(X_train, y_train)"
   ]
  },
  {
   "cell_type": "code",
   "execution_count": 37,
   "metadata": {},
   "outputs": [
    {
     "data": {
      "text/plain": [
       "RandomForestClassifier(bootstrap=True, ccp_alpha=0.0, class_weight=None,\n",
       "                       criterion='gini', max_depth=None, max_features='auto',\n",
       "                       max_leaf_nodes=None, max_samples=None,\n",
       "                       min_impurity_decrease=0.0, min_impurity_split=None,\n",
       "                       min_samples_leaf=1, min_samples_split=2,\n",
       "                       min_weight_fraction_leaf=0.0, n_estimators=100,\n",
       "                       n_jobs=None, oob_score=False, random_state=2, verbose=0,\n",
       "                       warm_start=False)"
      ]
     },
     "execution_count": 37,
     "metadata": {},
     "output_type": "execute_result"
    }
   ],
   "source": [
    "# Finding GridSearch best estimator for random forest\n",
    "grid.best_estimator_"
   ]
  },
  {
   "cell_type": "code",
   "execution_count": 38,
   "metadata": {},
   "outputs": [
    {
     "data": {
      "text/plain": [
       "0.9949999999999999"
      ]
     },
     "execution_count": 38,
     "metadata": {},
     "output_type": "execute_result"
    }
   ],
   "source": [
    "# Grid Search best score for the random forest\n",
    "grid.best_score_"
   ]
  },
  {
   "cell_type": "code",
   "execution_count": 39,
   "metadata": {},
   "outputs": [
    {
     "data": {
      "text/plain": [
       "{'criterion': 'gini', 'n_estimators': 100}"
      ]
     },
     "execution_count": 39,
     "metadata": {},
     "output_type": "execute_result"
    }
   ],
   "source": [
    "# Grid Search best parameters for random forest\n",
    "grid.best_params_"
   ]
  },
  {
   "cell_type": "code",
   "execution_count": 40,
   "metadata": {},
   "outputs": [
    {
     "data": {
      "text/plain": [
       "RandomForestClassifier(bootstrap=True, ccp_alpha=0.0, class_weight=None,\n",
       "                       criterion='gini', max_depth=None, max_features='auto',\n",
       "                       max_leaf_nodes=None, max_samples=None,\n",
       "                       min_impurity_decrease=0.0, min_impurity_split=None,\n",
       "                       min_samples_leaf=1, min_samples_split=2,\n",
       "                       min_weight_fraction_leaf=0.0, n_estimators=100,\n",
       "                       n_jobs=None, oob_score=False, random_state=2, verbose=0,\n",
       "                       warm_start=False)"
      ]
     },
     "execution_count": 40,
     "metadata": {},
     "output_type": "execute_result"
    }
   ],
   "source": [
    "# buidling a random forest consisting of 100 trees on the data\n",
    "forest = RandomForestClassifier(criterion= 'gini', n_estimators= 100, random_state=2)\n",
    "forest.fit(X_train, y_train)"
   ]
  },
  {
   "cell_type": "code",
   "execution_count": 41,
   "metadata": {},
   "outputs": [],
   "source": [
    "# find the accuracy of the prediction of the forest test data.\n",
    "y_pred = forest.predict(X_test)"
   ]
  },
  {
   "cell_type": "code",
   "execution_count": 42,
   "metadata": {},
   "outputs": [
    {
     "data": {
      "text/plain": [
       "0.96"
      ]
     },
     "execution_count": 42,
     "metadata": {},
     "output_type": "execute_result"
    }
   ],
   "source": [
    "# accuracy of the forest\n",
    "accuracy = accuracy_score(y_test, y_pred)\n",
    "accuracy"
   ]
  },
  {
   "cell_type": "code",
   "execution_count": 43,
   "metadata": {},
   "outputs": [
    {
     "data": {
      "text/plain": [
       "array([[22,  0,  0,  0],\n",
       "       [ 0, 27,  0,  0],\n",
       "       [ 0,  1, 26,  3],\n",
       "       [ 0,  0,  0, 21]], dtype=int64)"
      ]
     },
     "execution_count": 43,
     "metadata": {},
     "output_type": "execute_result"
    }
   ],
   "source": [
    "# confusion matrix for the test data of the forest\n",
    "cm = confusion_matrix(y_test, y_pred)\n",
    "cm"
   ]
  },
  {
   "cell_type": "code",
   "execution_count": null,
   "metadata": {},
   "outputs": [],
   "source": []
  }
 ],
 "metadata": {
  "kernelspec": {
   "display_name": "Python 3",
   "language": "python",
   "name": "python3"
  },
  "language_info": {
   "codemirror_mode": {
    "name": "ipython",
    "version": 3
   },
   "file_extension": ".py",
   "mimetype": "text/x-python",
   "name": "python",
   "nbconvert_exporter": "python",
   "pygments_lexer": "ipython3",
   "version": "3.7.6"
  }
 },
 "nbformat": 4,
 "nbformat_minor": 4
}
